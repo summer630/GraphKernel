{
 "cells": [
  {
   "cell_type": "markdown",
   "metadata": {},
   "source": [
    "There are three instances of Weisfeiler-Lehman(WL) Kernels discussed in the paper, the WL subtree kernel, the WL edge kernel, and the WL shortest path kernel.  "
   ]
  },
  {
   "cell_type": "markdown",
   "metadata": {},
   "source": [
    "### 1.1 The Weisfeiler-Lehman Kernel Framework"
   ]
  },
  {
   "cell_type": "markdown",
   "metadata": {},
   "source": [
    "**Definition** Let $k$ be any kernel for graphs, that we will call the base kernel. Then the Weisfeiler-Lehman kernel with $h$ iteration with the base kernel $k$ is defined as\n",
    "\n",
    "$$k_{wl}^{(h)}(G, G^{\\prime}) = k(G_0, G_0^{\\prime}) + k(G_1, G_1^{\\prime}) + ... + k(G_h, G_h^{\\prime}) $$\n",
    "\n",
    "where $h$ is the number of Weisfeiler-Lehman iterations and $\\{G_0,..., G_h\\}$ and $\\{ G_0^{\\prime},..., G_h^{\\prime} \\}$ are the Weisfeiler-Lehman sequences of $G$ and $G$^{\\prime} respectively. \n",
    "\n",
    "Note that if the base kernel $k$ is positive semidefinite, then the corresponding Weisfeiler-Lehman kernel $k_{wl}^{(h)}$ is positive semidefinite. Let $\\phi$ be the feature mapping corresponding to the kernel $k$: \n",
    "\n",
    "$$k(G_i, G_i^{\\prime}) = \\langle \\phi(G_i), \\phi(G_i^{\\prime}) \\rangle$$\n",
    "\n",
    "Define $\\psi(G)$ as $\\phi(r^{i}(G))$. Then we have \n",
    "\n",
    "$$k(G_i, G_i^{\\prime}) = k(r^i (G), r^i (G^{\\prime})) = \\langle \\phi(r^i (G)), \\phi( r^i (G^{\\prime})) \\rangle = \\langle \\psi(G), \\psi(G^{\\prime}) \\rangle$$\n",
    "\n",
    "Hence $k$ is a kernel on $G$ and $G^{\\prime}$ and $k_{wl}^{(h)}$ is positive semidefinite as a sum of positive semidefinite kernels. "
   ]
  },
  {
   "cell_type": "markdown",
   "metadata": {},
   "source": [
    "### 1.2 The Weisfeiler-Lehman subtree Kernel"
   ]
  },
  {
   "cell_type": "markdown",
   "metadata": {},
   "source": [
    "**Definition ** Let $G$ and $G^{\\prime}$ be graphs. Define $\\Sigma_i \\subseteq \\Sigma$ as the set of letters that occur as node labels at least once in $G$ and $G^{\\prime}$ at the end of the i-th iteration of the Weisfeiler-Lehman algorithm. Let $\\Sigma_0$ be the set of original node labels of $G$ and $G^{\\prime}$. Assume all $\\Sigma_i$ are pairwise disjoint. WLOG, assume that every $\\Sigma_i = \\{\\sigma_{i1}, ..., \\sigma_{i|\\Sigma_i|} \\}$ is ordered. Define a map $c_i: \\{G, G^{\\prime}) \\times \\Sigma_i \\mapsto N$ such that $c_i(G, \\sigma_{ij})$ is the number of occurrences of the letter $\\sigma_{ij}$ in the graph $G$.  \n",
    "\n",
    "The Weisfeiler-Lehman subtree kernel on two graphs $G$ and $G^{\\prime}$ with $h$ iterations is defined as: \n",
    "\n",
    "$$k_{WLsubtree}^{(h)}(G, G^{\\prime}) = \\langle \\phi_{WLsubtree}^{(h)} (G),  \\phi_{WLsubtree}^{(h)} (G^{\\prime})\\rangle$$\n",
    "\n",
    "where \n",
    "\n",
    "$$\\phi_{WLsubtree}^{(h)}(G) = (c_0(G, \\sigma_{01}, ..., c_0(G, \\sigma_{0 |\\Sigma_0|}), ..., c_h(G, \\sigma_{h1}),...,  c_h(G, \\sigma_{h|\\Sigma_h|})$$\n",
    "$$\\phi_{WLsubtree}^{(h)}(G^{\\prime}) = (c_0(G^{\\prime}, \\sigma_{01}, ..., c_0(G^{\\prime}, \\sigma_{0 |\\Sigma_0|}), ..., c_h(G^{\\prime}, \\sigma_{h1}),...,  c_h(G^{\\prime}, \\sigma_{h|\\Sigma_h|})$$\n",
    "\n",
    "\n",
    "We can show that the Weisfeiler-Lehman subtree kernel is a special case fo the general Weisfeiler-Lahman kernel.\n",
    "\n",
    "**Theorem** Let the base kernel $k$ be a function counting pairs of matching node labels in two graphs: \n",
    "\n",
    "$$k(G, G^{\\prime}) = \\sum_{v \\in V} \\sum_{v^{\\prime} \\in V^{\\prime}} \\delta(l(v), l(v^{\\prime}))$$\n",
    "\n",
    "where $\\delta$ is the Dirac kernel, that is, it is 1 when its arguments are equal and 0 otherwise. Then $k_{WL}^{(h)}(G, G^{\\prime}) = k_{WLsubtree}^{(h)} (G, G^{\\prime})$ for all $G$, $G^{\\prime}$.\n",
    "\n",
    "**Proof** It is easy to notice that for each $i \\in \\{0, 1, ..., h\\}$ we have  \n",
    "\n",
    "$$\\sum_{v \\in V} \\sum_{v^{\\prime} \\in V^{\\prime}} \\delta(l_i(v), l_i^{\\prime}(v^{\\prime})) = \\sum_{j=1}^{|\\Sigma_i|} c_i(G, \\sigma_{ij}) c_i(G^{\\prime}, \\sigma_{ij})$$\n",
    "\n",
    "Adding up these sumes for all $i \\in \\{0, 1, ..., h\\}$ gives us $k_{WL}^{(h)}(G, G^{\\prime}) = k_{WLsubtree}^{(h)}(G, G^{\\prime})$. $\\square$\n",
    "\n",
    "The base kernel $k$ is positive semidefinite since it is sum of Dirac kernel. Thus, the Weisfeiler-Lehman Subtree Kernel is positive semidefinite. "
   ]
  },
  {
   "cell_type": "markdown",
   "metadata": {},
   "source": [
    "### 1.3 The Weisfeiler-Lehman edge Kernel"
   ]
  },
  {
   "cell_type": "markdown",
   "metadata": {},
   "source": [
    "The Weisfeiler-Lehman edge kernel is another instance of the Weisfeiler-Lehman kernel framework. It is defined by  \n",
    "\n",
    "$$k_{WLedge}^{(h)} = k_E(G_0, G_0^{\\prime}) + k_E(G_1, G_1^{\\prime}) + ... + k_E(G_h, G_h^{\\prime}) $$\n",
    "\n",
    "where the base kernel $k_E$ counts matching pairs of edges with identically labeled endpoints (incident nodes) in two graphs. In other words, the base kernel is defined as\n",
    "\n",
    "$$k_E(G, G^{\\prime}) = \\langle \\phi_E(G), \\phi_E(G^{\\prime}) \\rangle$$,  \n",
    "\n",
    "\n",
    "\n",
    "where  $\\phi_E(G)$ is a vector of number of occurences of pairs $(a, b)$, $a, b \\in \\Sigma$, which represent ordered labels of endpoints of an edge in $G$. Denoting $(a, b)$ and $(a^{\\prime}, b^{\\prime})$ the ordered labels of endpoints of edges $e$ and $e^{\\prime}$ respectively, and $\\delta$ the Dirac kernel, we can write $k_E$ as \n",
    "\n",
    "$$k_E(G, G^{\\prime})  = \\sum_{e\\in E} \\sum_{e^{\\prime} \\in E^{\\prime}} \\delta(a, a^{\\prime}) \\delta(b, b^{\\prime})$$\n",
    "\n",
    "Therefore, Weisfeiler-Lehman Edge kernel is positive-semidefinite. "
   ]
  },
  {
   "cell_type": "markdown",
   "metadata": {},
   "source": [
    "### 1.4 The Weisfeiler-Lehman shortest path kernel"
   ]
  },
  {
   "cell_type": "markdown",
   "metadata": {},
   "source": [
    "The third instance of the general Weisfeiler-Lehman kernel is Weisfeiler-Lehman shortest path kernel, defined as \n",
    "\n",
    "$$k_{WL\\ shortest\\ path}^{(h)} = k_{SP}(G_0, G_0^{\\prime}) + k_{SP}(G_1, G_1^{\\prime}) + ... + k_{SP}(G_h, G_h^{\\prime}) $$\n",
    "\n",
    "whern fore the base kernel $k_{SP}(G, G^{\\prime}) = \\langle \\phi_{SP}(G), \\phi_{SP}(G^{\\prime})\\rangle$, $\\phi_{SP}(G)$ is a vector whose components are numbers of occurrences of triplets of the form $(a, b, p)$ in $G$, where $a, b \\in \\Sigma$ are ordered endpoint labels of a shortest path and $p \\in N_0$ is the shortest path length. In the following we'll prove the validity of shortest-path kernel.\n",
    "\n",
    "An alternative form of Weisfeiler-Lehman shortest path kernel(Kondor and Borgwardt, 2008) is \n",
    "\n",
    "$$k_{SP}(G, G^{\\prime}) = \\sum_{e \\in E} \\sum_{e^{\\prime} \\in E^{\\prime}} k_{walk}^{(1)} (e, e^{\\prime})$$\n",
    "\n",
    "**Lemma** The shortest-path graph kernel is positive definite.\n",
    "\n",
    "**Proof** The shortest-path kernel is simply a walk kernel run on a Floyd-transformed graph considering walks of length 1 only. First we choose a positive definite kernel on nodes and a positive definite kernel on edges. We then define $k_{walk}^{(1)}$ on pairs of walks of length 1 as the product of kernels on nodes and edges encountered along the walk.\n",
    "\n",
    "As a tensor product of node and edge kernels, $k_{walk}^{(1)}$ is positive definite. We then zero-extend $k_{walk}^{(1)}$ to the whole set of pairs of walks, setting kernel values for all walks with length $\\neq 1$ to zero. This zero-extension preserves positive definiteness. The positive definiteness of the shortes-path kernel follows directly from its definition as a convolution kernel."
   ]
  },
  {
   "cell_type": "code",
   "execution_count": null,
   "metadata": {
    "collapsed": true
   },
   "outputs": [],
   "source": []
  }
 ],
 "metadata": {
  "kernelspec": {
   "display_name": "Python 3",
   "language": "python",
   "name": "python3"
  },
  "language_info": {
   "codemirror_mode": {
    "name": "ipython",
    "version": 3
   },
   "file_extension": ".py",
   "mimetype": "text/x-python",
   "name": "python",
   "nbconvert_exporter": "python",
   "pygments_lexer": "ipython3",
   "version": "3.6.3"
  }
 },
 "nbformat": 4,
 "nbformat_minor": 2
}
