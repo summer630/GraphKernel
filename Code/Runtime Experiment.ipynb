{
 "cells": [
  {
   "cell_type": "code",
   "execution_count": 64,
   "metadata": {
    "collapsed": true
   },
   "outputs": [],
   "source": [
    "import numpy as np\n",
    "import random\n",
    "import scipy.io as spio\n",
    "import matplotlib.pyplot as plt\n",
    "from sklearn import svm, datasets\n",
    "from sklearn.metrics import accuracy_score, mean_squared_error\n",
    "INF = np.inf\n",
    "\n",
    "#Read data \n",
    "mat = spio.loadmat('MUTAG.mat', squeeze_me=True)\n",
    "type(mat)\n",
    "mutag = mat['MUTAG']\n",
    "lmutag = mat['lmutag']\n",
    "N = np.size(mutag)\n",
    "\n",
    "#get phi size \n",
    "tol = 0\n",
    "#get total number of nodes in the dataset  \n",
    "for i in range(N):\n",
    "    graph = mutag[i]\n",
    "    tol += len(graph[1].tolist()[0])\n",
    "\n",
    "\n",
    "#wl subtree kernel of two graphs  \n",
    "def wl_substree_kernel (m1, m2, tol, H):  \n",
    "    K = 0 \n",
    "    l1 = np.zeros(m1.shape[0])\n",
    "    l2 = np.zeros(m1.shape[0])\n",
    "    \n",
    "    #---------------- Original Count -----------------------\n",
    "    Map = dict(); #Key(string): true label; Value(int): label compression \n",
    "    ctr = 0 #label compression \n",
    "    \n",
    "    #phi for original node labels counts \n",
    "    phi1 = np.zeros(tol)\n",
    "    phi2 = np.zeros(tol) \n",
    "    \n",
    "    #for graph1 \n",
    "    labels1 = np.zeros(l1.shape[0])\n",
    "    for i in range(l1.shape[0]): \n",
    "        str_label = str(l1[i])  #convert to string \n",
    "        if (str_label in Map): \n",
    "            labels1[i] = Map[str_label]\n",
    "        else: \n",
    "            Map[str_label] = ctr \n",
    "            labels1[i] = ctr\n",
    "            ctr += 1\n",
    "        \n",
    "    labels1 = np.int64(labels1)\n",
    "    phi1[labels1] += 1\n",
    "    \n",
    "    \n",
    "    #for graph2\n",
    "    labels2 = np.zeros(l2.shape[0])\n",
    "    for i in range(l2.shape[0]): \n",
    "        str_label = str(l2[i])  #convert to string \n",
    "        if (str_label in Map): \n",
    "            labels2[i] = Map[str_label]\n",
    "        else: \n",
    "            Map[str_label] = ctr \n",
    "            labels2[i] = ctr\n",
    "            ctr += 1\n",
    "        \n",
    "    labels2 = np.int64(labels2)\n",
    "    phi2[labels2] += 1\n",
    "    \n",
    "\n",
    "    K += np.dot(phi1.T, phi2)\n",
    "    \n",
    "    #---------------- H iteration -----------------------\n",
    "    new_labels1 = labels1\n",
    "    new_labels2 = labels2\n",
    "    \n",
    "    for h in range(H):\n",
    "        \n",
    "        #Map = dict(); ctr = 0 \n",
    "        \n",
    "        #phi for h-th iteration\n",
    "        phi1 = np.zeros(tol)\n",
    "        phi2 = np.zeros(tol) \n",
    "        \n",
    "        #for graph 1\n",
    "        for i in range(l1.shape[0]): \n",
    "            #find the labels of neighbors\n",
    "            neighbors_label = labels1[np.where(m1[i] == 1)]\n",
    "            long_label = np.concatenate((np.array([labels1[i]]), neighbors_label))\n",
    "            str_label = str(long_label)\n",
    "\n",
    "            #check map \n",
    "            if (str_label in Map): \n",
    "                new_labels1[i] = Map[str_label]\n",
    "            else: \n",
    "                Map[str_label] = ctr \n",
    "                new_labels1[i] = ctr\n",
    "                ctr += 1\n",
    "\n",
    "            phi1[np.int64(new_labels1)] += 1\n",
    "            \n",
    "        \n",
    "        #for graph 2\n",
    "        for i in range(l2.shape[0]): \n",
    "            #find the labels of neighbors\n",
    "            neighbors_label = labels2[np.where(m2[i] == 1)]\n",
    "            long_label = np.concatenate((np.array([labels2[i]]), neighbors_label))\n",
    "            str_label = str(long_label)\n",
    "\n",
    "            #check map \n",
    "            if (str_label in Map): \n",
    "                new_labels2[i] = Map[str_label]\n",
    "            else: \n",
    "                Map[str_label] = ctr \n",
    "                new_labels2[i] = ctr\n",
    "                ctr += 1\n",
    "\n",
    "            phi2[np.int64(new_labels2)] += 1\n",
    "            \n",
    "            \n",
    "        K += np.dot(phi1.T, phi2)\n",
    "        \n",
    "        labels1 = new_labels1\n",
    "        labels2 = new_labels2\n",
    "        labels1 = np.int64(labels1)\n",
    "        labels2 = np.int64(labels2)\n",
    "    \n",
    "    return K "
   ]
  },
  {
   "cell_type": "markdown",
   "metadata": {},
   "source": [
    "**Experiment setup** We assessed the behaviour on randomly generated graphs with respect to four parameters: data set size N, graph size n, subtree height h and graph density c."
   ]
  },
  {
   "cell_type": "code",
   "execution_count": 38,
   "metadata": {},
   "outputs": [],
   "source": [
    "N_set = np.array([10, 100, 1000])\n",
    "n_set = [(x + 1)*100 for x in list(range(10))]\n",
    "h_set = np.array([2, 4, 8])\n",
    "c_set = [(x + 1)*0.1 for x in list(range(9))]\n",
    "\n",
    "\n",
    "def get_am(n, c, seed): \n",
    "    am = np.zeros([n, n])\n",
    "    max_num_edges = int((n*(n-1))/2)\n",
    "    num_edges = int(round(max_num_edges * c ))\n",
    "    \n",
    "    random.seed(seed) \n",
    "    samples = random.sample(range(max_num_edges), num_edges)\n",
    "    \n",
    "    for x in samples:  \n",
    "        row = x // n \n",
    "        col = x % n\n",
    "        am[row, col] = 1 \n",
    "        am[col, row] = 1 \n",
    "    return am \n",
    "\n",
    "#get_am(10, 0.1, 1) "
   ]
  },
  {
   "cell_type": "code",
   "execution_count": 83,
   "metadata": {},
   "outputs": [],
   "source": [
    "import time\n",
    "def get_running_time(N, n, h, c, phi_size): \n",
    "    all_am = [0]*N \n",
    "    for i in range(N): \n",
    "        all_am[i] = get_am(n, c, i) \n",
    "    \n",
    "    K = np.zeros([N, N])\n",
    "    \n",
    "    start_time = time.time()\n",
    "    for i in range(N): \n",
    "        for j in range(N): \n",
    "            m1 = all_am[i]\n",
    "            m2 = all_am[j] \n",
    "            K[i, j] = wl_substree_kernel(m1, m2, phi_size, h)\n",
    "    \n",
    "    print(\"--- %s seconds ---\" % (time.time() - start_time))\n",
    "    \n",
    "    return (time.time() - start_time)"
   ]
  },
  {
   "cell_type": "code",
   "execution_count": 136,
   "metadata": {},
   "outputs": [
    {
     "name": "stdout",
     "output_type": "stream",
     "text": [
      "--- 0.750575065612793 seconds ---\n",
      "0.7506771087646484\n",
      "--- 48.27554512023926 seconds ---\n",
      "48.275652170181274\n",
      "--- 4790.8440001010895 seconds ---\n",
      "4790.844105005264\n"
     ]
    }
   ],
   "source": [
    "#graph 1 \n",
    "time_set = [] \n",
    "for N in N_set: \n",
    "    #default setting  \n",
    "    n = 20; h = 2; c = 0.4 \n",
    "    t = get_running_time(N, n, h, c, tol)\n",
    "    print(t)\n",
    "    time_set.append(t)"
   ]
  },
  {
   "cell_type": "code",
   "execution_count": 142,
   "metadata": {},
   "outputs": [
    {
     "name": "stdout",
     "output_type": "stream",
     "text": [
      "--- 11.08481502532959 seconds ---\n",
      "11.086519002914429\n",
      "--- 31.650201082229614 seconds ---\n",
      "31.65030598640442\n",
      "--- 65.42501616477966 seconds ---\n",
      "65.42516827583313\n",
      "--- 118.66686081886292 seconds ---\n",
      "118.66696882247925\n",
      "--- 173.33963918685913 seconds ---\n",
      "173.339830160141\n",
      "--- 248.88680505752563 seconds ---\n",
      "248.8869183063507\n",
      "--- 352.9539740085602 seconds ---\n",
      "352.9540972709656\n",
      "--- 453.4470269680023 seconds ---\n",
      "453.44716596603394\n",
      "--- 575.6846969127655 seconds ---\n",
      "575.6848452091217\n",
      "--- 777.9198479652405 seconds ---\n",
      "777.9199738502502\n"
     ]
    }
   ],
   "source": [
    "#graph 2\n",
    "time_set_2 = [] \n",
    "for n in n_set: \n",
    "    #default setting  \n",
    "    N = 10; h = 4; c = 0.4 \n",
    "    t = get_running_time(N, n, h, c, n*N)\n",
    "    print(t)\n",
    "    time_set_2.append(t)"
   ]
  },
  {
   "cell_type": "code",
   "execution_count": 88,
   "metadata": {},
   "outputs": [
    {
     "name": "stdout",
     "output_type": "stream",
     "text": [
      "--- 5.378842830657959 seconds ---\n",
      "5.378952980041504\n",
      "--- 10.808762788772583 seconds ---\n",
      "10.808862924575806\n",
      "--- 25.752474069595337 seconds ---\n",
      "25.752580165863037\n"
     ]
    }
   ],
   "source": [
    "#graph 3\n",
    "time_set_3 = [] \n",
    "for h in h_set: \n",
    "    #default setting  \n",
    "    N = 10; n = 100; c = 0.4 \n",
    "    t = get_running_time(N, n, h, c, n*N*h)\n",
    "    print(t)\n",
    "    time_set_3.append(t)"
   ]
  },
  {
   "cell_type": "code",
   "execution_count": 140,
   "metadata": {},
   "outputs": [
    {
     "name": "stdout",
     "output_type": "stream",
     "text": [
      "--- 5.723060846328735 seconds ---\n",
      "5.7231669425964355\n",
      "--- 6.874244928359985 seconds ---\n",
      "6.874346971511841\n",
      "--- 8.283513069152832 seconds ---\n",
      "8.285286903381348\n",
      "--- 9.148592948913574 seconds ---\n",
      "9.148698806762695\n",
      "--- 10.194782972335815 seconds ---\n",
      "10.194889068603516\n",
      "--- 11.751205205917358 seconds ---\n",
      "11.751322031021118\n",
      "--- 13.658163070678711 seconds ---\n",
      "13.65826416015625\n",
      "--- 14.63727617263794 seconds ---\n",
      "14.637376070022583\n",
      "--- 15.204340934753418 seconds ---\n",
      "15.20444107055664\n"
     ]
    }
   ],
   "source": [
    "#graph 4\n",
    "c_set = [(x + 1)*0.1 for x in list(range(9))]\n",
    "\n",
    "time_set_4 = [] \n",
    "for c in c_set: \n",
    "    #default setting  \n",
    "    N = 10; n = 100; h = 4 \n",
    "    t = get_running_time(N, n, h, c, 1000)\n",
    "    print(t)\n",
    "    time_set_4.append(t)"
   ]
  },
  {
   "cell_type": "code",
   "execution_count": 143,
   "metadata": {},
   "outputs": [
    {
     "data": {
      "image/png": "[encoded data removed]",
      "text/plain": [
       "<matplotlib.figure.Figure at 0x1a1c365e48>"
      ]
     },
     "metadata": {},
     "output_type": "display_data"
    }
   ],
   "source": [
    "fig = plt.figure()\n",
    "plt.figure(1)\n",
    "\n",
    "plt.subplot(221)\n",
    "plt.plot(N_set, time_set)\n",
    "plt.xlabel('Number of graphs N')\n",
    "plt.ylabel('Runtime in seconds')\n",
    "plt.grid()\n",
    "\n",
    "plt.subplot(222)\n",
    "plt.plot(n_set, time_set_2)\n",
    "plt.xlabel('Graph size n')\n",
    "plt.ylabel('Runtime in seconds')\n",
    "plt.grid()\n",
    "\n",
    "plt.subplot(223)\n",
    "plt.plot(h_set, time_set_3)\n",
    "plt.xlabel('Subtree height h')\n",
    "plt.ylabel('Runtime in seconds')\n",
    "plt.grid()\n",
    "\n",
    "plt.subplot(224)\n",
    "plt.plot(c_set, time_set_4)\n",
    "plt.xlabel('Graph densiy c')\n",
    "plt.ylabel('Runtime in seconds')\n",
    "plt.grid()\n",
    "\n",
    "plt.subplots_adjust(left = 0.15, right=0.9, bottom=0.1, top=0.9,\n",
    "                   wspace = 0.5, hspace = 0.5 )\n",
    "\n",
    "\n",
    "plt.show()\n",
    "fig.savefig('runtime.png')"
   ]
  }
 ],
 "metadata": {
  "kernelspec": {
   "display_name": "Python 3",
   "language": "python",
   "name": "python3"
  },
  "language_info": {
   "codemirror_mode": {
    "name": "ipython",
    "version": 3
   },
   "file_extension": ".py",
   "mimetype": "text/x-python",
   "name": "python",
   "nbconvert_exporter": "python",
   "pygments_lexer": "ipython3",
   "version": "3.6.3"
  }
 },
 "nbformat": 4,
 "nbformat_minor": 2
}
