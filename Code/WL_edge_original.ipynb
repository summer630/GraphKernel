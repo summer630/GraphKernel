{
 "cells": [
  {
   "cell_type": "code",
   "execution_count": 1,
   "metadata": {
    "collapsed": true
   },
   "outputs": [],
   "source": [
    "import numpy as np\n",
    "import scipy.io as spio"
   ]
  },
  {
   "cell_type": "code",
   "execution_count": 13,
   "metadata": {
    "collapsed": true
   },
   "outputs": [],
   "source": [
    "mat = spio.loadmat('MUTAG.mat', squeeze_me = True)\n",
    "mutag = mat['MUTAG']\n",
    "lmutag = mat['lmutag']\n",
    "N = np.size(mutag)\n",
    "\n",
    "tol = 0\n",
    "#get total number of nodes in the dataset  \n",
    "for i in range(N):\n",
    "        graph = mutag[i]\n",
    "        tol += len(graph[1].tolist()[0])"
   ]
  },
  {
   "cell_type": "markdown",
   "metadata": {},
   "source": [
    "### WL Edge Kernel"
   ]
  },
  {
   "cell_type": "code",
   "execution_count": 3,
   "metadata": {
    "collapsed": true
   },
   "outputs": [],
   "source": [
    "def original_count(nl, Map, ctr): \n",
    "    num_labels = nl.shape[0]\n",
    "    labels = np.zeros(num_labels) \n",
    "    \n",
    "    for i in range(num_labels): \n",
    "        str_label = str(nl[i]) \n",
    "        if(str_label in Map): \n",
    "            labels[i] = Map[str_label] \n",
    "        else: \n",
    "            Map[str_label] = ctr\n",
    "            labels[i] = ctr\n",
    "            ctr += 1 \n",
    "        \n",
    "    labels = np.int64(labels)\n",
    "    return {'labels': labels, 'Map': Map, 'ctr': ctr}"
   ]
  },
  {
   "cell_type": "code",
   "execution_count": 4,
   "metadata": {
    "collapsed": true
   },
   "outputs": [],
   "source": [
    "def get_edge_map(nl, am): \n",
    "    \"\"\"\n",
    "    nl: node labels \n",
    "    am: adjacent matrix of a node \n",
    "    \"\"\"\n",
    "    \n",
    "    n = nl.shape[0]\n",
    "    square = np.matlib.repmat(np.asmatrix(nl).T, 1, n)\n",
    "    Start = np.minimum(square, square.T)\n",
    "    End = np.maximum(square, square.T)\n",
    "    Edges = np.triu(am, 1)\n",
    "    index = np.where(Edges == 1)\n",
    "    row = index[0]; \n",
    "    col = index[1];\n",
    "    \n",
    "    edge_map = dict() \n",
    "    n_pairs = len(row)\n",
    "    for k in range(n_pairs): \n",
    "        i = row[k] \n",
    "        j = col[k]\n",
    "        start_ep = Start[i, j]\n",
    "        end_ep = End[i, j]\n",
    "\n",
    "        edge = str(start_ep) + \"-\" + str(end_ep) #key: ordered pair name\n",
    "        if (edge in edge_map): \n",
    "            edge_map[edge] += 1; \n",
    "        else: \n",
    "            edge_map[edge] = 1; \n",
    "            \n",
    "\n",
    "    return edge_map\n",
    "\n",
    "\n",
    "\"\"\"\n",
    "get_edge_map(l1, am1)\n",
    "#return: \n",
    "{'3-3': 24, '3-6': 1, '6-7': 2}\n",
    "\"\"\""
   ]
  },
  {
   "cell_type": "code",
   "execution_count": 5,
   "metadata": {
    "collapsed": true
   },
   "outputs": [],
   "source": [
    "def compress_label(nl, am):  \n",
    "    Map = dict(); ctr = 0\n",
    "    phi1 = []\n",
    "    phi2 = [] \n",
    "    new_labels = np.zeros(nl.shape[0])\n",
    "    for i in range(nl.shape[0]): \n",
    "        neighbors_labels = nl[np.where(am[i] == 1)]\n",
    "        str_label = str(nl[i])\n",
    "        \n",
    "        for neighbor in range(neighbors_labels.shape[0]): \n",
    "            str_label += str(neighbor)\n",
    "        \n",
    "        if(str_label in Map): \n",
    "            new_labels[i] = Map[str_label]\n",
    "        else: \n",
    "            Map[str_label] = ctr\n",
    "            new_labels[i] = ctr\n",
    "            ctr += 1 \n",
    "            \n",
    "    return {'new_labels': new_labels, 'Map': Map, 'ctr': ctr}        "
   ]
  },
  {
   "cell_type": "code",
   "execution_count": 12,
   "metadata": {
    "collapsed": true
   },
   "outputs": [],
   "source": [
    "\"\"\"\n",
    "edge kernel of two graphs  \n",
    "\"\"\"\n",
    "def wl_edge_kernel (graph1, graph2, H):  \n",
    "    K = 0 \n",
    "\n",
    "    #read graph structure \n",
    "    am1, l1 = graph1[0], graph1[1]\n",
    "    am2, l2 = graph2[0], graph2[1]\n",
    "    l1 = l1.tolist()[0]\n",
    "    l2 = l2.tolist()[0]\n",
    "    \n",
    "    #number of distinct nodes \n",
    "    #size1 = len(set(l1))\n",
    "    #size2 = len(set(l2))\n",
    "    \n",
    "    \n",
    "    ###Step 1: Initialization/original count\n",
    "    Map = dict();\n",
    "    ctr = 0 \n",
    "    \n",
    "    #for graph 1 \n",
    "    res1 = original_count(l1, Map, ctr)\n",
    "    Map = res1['Map']\n",
    "    ctr = res1['ctr']\n",
    "    \n",
    "    #for graph 2\n",
    "    res2 = original_count(l2, Map, ctr)\n",
    "    Map = res2['Map']\n",
    "    ctr = res2['ctr']\n",
    "    \n",
    "    #get initial labels  \n",
    "    labels1 = res1['labels']\n",
    "    labels2 = res2['labels']\n",
    "    \n",
    "    ###Step 2: Find ordered endpoints labels and # of occurences\n",
    "    edge_map1 = get_edge_map(labels1, am1)\n",
    "    edge_map2 = get_edge_map(labels2, am2)\n",
    "    \n",
    "    ###Step 3: Compute inner product of edge_map1 & edge_map2 \n",
    "    edges1 = set(edge_map1.keys())\n",
    "    edges2 = set(edge_map2.keys())\n",
    "    all_edges = edges1 | edges2 \n",
    "    phi1 = []\n",
    "    phi2 = []\n",
    "    for edge in all_edges: \n",
    "        phi1.append(edge_map1[edge] if edge in edges1 else 0)\n",
    "        phi2.append(edge_map2[edge] if edge in edges2 else 0)\n",
    "    \n",
    "    K += np.dot(np.asmatrix(phi1), np.asmatrix(phi2).T)\n",
    "    \n",
    "    \n",
    "    #Step 4: Repeat the above process for H iterations. \n",
    "    \n",
    "    for h in range(H):\n",
    "\n",
    "        ###Step 4.a: get compressed labels \n",
    "\n",
    "        #for graph 1 \n",
    "        res1 = compress_label(labels1, am1)\n",
    "        Map = res1['Map']\n",
    "        ctr = res1['ctr']\n",
    "\n",
    "        #for graph 2\n",
    "        res2 = compress_label(labels2, am2)\n",
    "        Map = res2['Map']\n",
    "        ctr = res2['ctr']\n",
    "\n",
    "        #update labels for h-th iteration\n",
    "        labels1 = res1['new_labels']\n",
    "        labels2 = res2['new_labels']\n",
    "\n",
    "        ###Step 4.b: Find ordered endpoints labels of edges in two graphs\n",
    "        edge_map1 = get_edge_map(labels1, am1)\n",
    "        edge_map2 = get_edge_map(labels2, am2)\n",
    "\n",
    "        ###Step 4.c: compute inner product of edge_map1 & edge_map2 \n",
    "        edges1 = set(edge_map1.keys())\n",
    "        edges2 = set(edge_map2.keys())\n",
    "        all_edges = edges1 | edges2 \n",
    "        phi1 = []\n",
    "        phi2 = []\n",
    "        for edge in all_edges: \n",
    "            phi1.append(edge_map1[edge] if edge in edges1 else 0)\n",
    "            phi2.append(edge_map2[edge] if edge in edges2 else 0)\n",
    "\n",
    "        K += np.dot(np.asmatrix(phi1), np.asmatrix(phi2).T)\n",
    "\n",
    "    return K"
   ]
  },
  {
   "cell_type": "markdown",
   "metadata": {},
   "source": [
    "Test Block"
   ]
  },
  {
   "cell_type": "code",
   "execution_count": null,
   "metadata": {
    "collapsed": true
   },
   "outputs": [],
   "source": []
  }
 ],
 "metadata": {
  "kernelspec": {
   "display_name": "Python 3",
   "language": "python",
   "name": "python3"
  },
  "language_info": {
   "codemirror_mode": {
    "name": "ipython",
    "version": 3
   },
   "file_extension": ".py",
   "mimetype": "text/x-python",
   "name": "python",
   "nbconvert_exporter": "python",
   "pygments_lexer": "ipython3",
   "version": "3.6.3"
  }
 },
 "nbformat": 4,
 "nbformat_minor": 2
}
