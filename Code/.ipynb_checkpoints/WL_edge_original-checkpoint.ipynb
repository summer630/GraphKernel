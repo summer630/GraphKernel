{
 "cells": [
  {
   "cell_type": "code",
   "execution_count": 65,
   "metadata": {
    "collapsed": true
   },
   "outputs": [],
   "source": [
    "import numpy as np\n",
    "import scipy.io as spio"
   ]
  },
  {
   "cell_type": "code",
   "execution_count": 66,
   "metadata": {
    "collapsed": true
   },
   "outputs": [],
   "source": [
    "mat = spio.loadmat('MUTAG.mat', squeeze_me=True)\n",
    "mutag = mat['MUTAG']\n",
    "lmutag = mat['lmutag']\n",
    "N = np.size(mutag)\n",
    "\n",
    "tol = 0 \n",
    "#global variable: the counter for distinct labels of node \n",
    "Map = dict() \n",
    "ctr = 0 \n",
    "\n",
    "#get total number of nodes in the dataset  \n",
    "for i in range(N):\n",
    "        graph = mutag[i]\n",
    "        tol += len(graph[1].tolist()[0])"
   ]
  },
  {
   "cell_type": "markdown",
   "metadata": {},
   "source": [
    "### WL Edge Kernel"
   ]
  },
  {
   "cell_type": "code",
   "execution_count": 67,
   "metadata": {
    "collapsed": true
   },
   "outputs": [],
   "source": [
    "def original_count(nl, Map, ctr): \n",
    "    num_labels = nl.shape[0]\n",
    "    labels = np.zeros(num_labels) \n",
    "    \n",
    "    for i in range(num_labels): \n",
    "        str_label = str(nl[i]) \n",
    "        if(str_label in Map): \n",
    "            labels[i] = Map[str_label] \n",
    "        else: \n",
    "            Map[str_label] = ctr\n",
    "            labels[i] = ctr\n",
    "            ctr += 1 \n",
    "        \n",
    "    labels = np.int64(labels)\n",
    "    return {'labels': labels, 'Map': Map, 'ctr': ctr}\n",
    "    "
   ]
  },
  {
   "cell_type": "code",
   "execution_count": 68,
   "metadata": {
    "collapsed": true
   },
   "outputs": [],
   "source": [
    "#edge kernel of two graphs  \n",
    "def wl_edge_kernel (graph1, graph2, tol, H):  \n",
    "    K = 0 \n",
    "\n",
    "    #read graph structure \n",
    "    m1, l1 = graph1[0], graph1[1]\n",
    "    m2, l2 = graph2[0], graph2[1]\n",
    "    l1 = l1.tolist()[0]\n",
    "    l2 = l2.tolist()[0]\n",
    "    \n",
    "    #Step 1: Initialization/original count\n",
    "    Map = dict();\n",
    "    ctr = 0 \n",
    "    #for graph 1 \n",
    "    res1 = original_count(l1, Map, ctr)\n",
    "    labels1 = res1['labels']\n",
    "    Map = res1['Map']\n",
    "    ctr = res1['ctr']\n",
    "    #for graph 2\n",
    "    res2 = original_count(l2, Map, ctr)\n",
    "    labels2 = res2['labels']\n",
    "    Map = res2['Map']\n",
    "    ctr = res2['ctr']\n",
    "    \n",
    "    #Step 2: Find ordered endpoints labels of edges in two graphs\n",
    "    \n",
    "    \n",
    "    \n",
    "    \n",
    "    \n",
    "    \n",
    "    \n",
    "        \n",
    "    \n",
    "    \n"
   ]
  },
  {
   "cell_type": "code",
   "execution_count": 122,
   "metadata": {},
   "outputs": [
    {
     "name": "stdout",
     "output_type": "stream",
     "text": [
      "Edges shape:  (23, 23)\n",
      "[ 0  0  1  2  2  3  4  5  5  6  6  7  8  9  9 10 11 12 12 14 14 15 16 17 18\n",
      " 20 20]\n",
      "[ 1 13  2  3 11  4  5  6 10  7 20  8  9 10 15 11 12 13 14 15 19 16 17 18 19\n",
      " 21 22]\n"
     ]
    },
    {
     "data": {
      "text/plain": [
       "2"
      ]
     },
     "execution_count": 122,
     "metadata": {},
     "output_type": "execute_result"
    }
   ],
   "source": [
    "l1 = s1[1].tolist()[0]\n",
    "l2 = s2[1].tolist()[0]\n",
    "\n",
    "n1 = l1.shape[0]\n",
    "am = am1\n",
    "\n",
    "Square = np.matlib.repmat(np.asmatrix(l1).T, 1, n1)\n",
    "Start = np.minimum(square, square.T)\n",
    "End = np.maximum(square, square.T)\n",
    "Edges = np.triu(am, 1)\n",
    "\n",
    "#print(np.where(Edges == 1))\n",
    "index = np.where(Edges == 1)\n",
    "row = index[0]\n",
    "col = index[1]\n",
    "\n",
    "print(\"Edges shape: \", Edges.shape)\n",
    "#print(\"Index shape: \", index.shape)\n",
    "print(index[0])\n",
    "print(index[1])\n",
    "\n",
    "\n",
    "#print(Start, \"\\n\", Start[np.where(Edges == 1)])\n",
    "#print(End[Edges])\n",
    "len(index)"
   ]
  },
  {
   "cell_type": "code",
   "execution_count": 123,
   "metadata": {},
   "outputs": [
    {
     "data": {
      "text/plain": [
       "array([[0, 1, 0, 0, 0, 0, 0, 0, 0, 0, 0, 0, 0, 1, 0, 0, 0, 0, 0, 0, 0, 0, 0],\n",
       "       [0, 0, 1, 0, 0, 0, 0, 0, 0, 0, 0, 0, 0, 0, 0, 0, 0, 0, 0, 0, 0, 0, 0],\n",
       "       [0, 0, 0, 1, 0, 0, 0, 0, 0, 0, 0, 1, 0, 0, 0, 0, 0, 0, 0, 0, 0, 0, 0],\n",
       "       [0, 0, 0, 0, 1, 0, 0, 0, 0, 0, 0, 0, 0, 0, 0, 0, 0, 0, 0, 0, 0, 0, 0],\n",
       "       [0, 0, 0, 0, 0, 1, 0, 0, 0, 0, 0, 0, 0, 0, 0, 0, 0, 0, 0, 0, 0, 0, 0],\n",
       "       [0, 0, 0, 0, 0, 0, 1, 0, 0, 0, 1, 0, 0, 0, 0, 0, 0, 0, 0, 0, 0, 0, 0],\n",
       "       [0, 0, 0, 0, 0, 0, 0, 1, 0, 0, 0, 0, 0, 0, 0, 0, 0, 0, 0, 0, 1, 0, 0],\n",
       "       [0, 0, 0, 0, 0, 0, 0, 0, 1, 0, 0, 0, 0, 0, 0, 0, 0, 0, 0, 0, 0, 0, 0],\n",
       "       [0, 0, 0, 0, 0, 0, 0, 0, 0, 1, 0, 0, 0, 0, 0, 0, 0, 0, 0, 0, 0, 0, 0],\n",
       "       [0, 0, 0, 0, 0, 0, 0, 0, 0, 0, 1, 0, 0, 0, 0, 1, 0, 0, 0, 0, 0, 0, 0],\n",
       "       [0, 0, 0, 0, 0, 0, 0, 0, 0, 0, 0, 1, 0, 0, 0, 0, 0, 0, 0, 0, 0, 0, 0],\n",
       "       [0, 0, 0, 0, 0, 0, 0, 0, 0, 0, 0, 0, 1, 0, 0, 0, 0, 0, 0, 0, 0, 0, 0],\n",
       "       [0, 0, 0, 0, 0, 0, 0, 0, 0, 0, 0, 0, 0, 1, 1, 0, 0, 0, 0, 0, 0, 0, 0],\n",
       "       [0, 0, 0, 0, 0, 0, 0, 0, 0, 0, 0, 0, 0, 0, 0, 0, 0, 0, 0, 0, 0, 0, 0],\n",
       "       [0, 0, 0, 0, 0, 0, 0, 0, 0, 0, 0, 0, 0, 0, 0, 1, 0, 0, 0, 1, 0, 0, 0],\n",
       "       [0, 0, 0, 0, 0, 0, 0, 0, 0, 0, 0, 0, 0, 0, 0, 0, 1, 0, 0, 0, 0, 0, 0],\n",
       "       [0, 0, 0, 0, 0, 0, 0, 0, 0, 0, 0, 0, 0, 0, 0, 0, 0, 1, 0, 0, 0, 0, 0],\n",
       "       [0, 0, 0, 0, 0, 0, 0, 0, 0, 0, 0, 0, 0, 0, 0, 0, 0, 0, 1, 0, 0, 0, 0],\n",
       "       [0, 0, 0, 0, 0, 0, 0, 0, 0, 0, 0, 0, 0, 0, 0, 0, 0, 0, 0, 1, 0, 0, 0],\n",
       "       [0, 0, 0, 0, 0, 0, 0, 0, 0, 0, 0, 0, 0, 0, 0, 0, 0, 0, 0, 0, 0, 0, 0],\n",
       "       [0, 0, 0, 0, 0, 0, 0, 0, 0, 0, 0, 0, 0, 0, 0, 0, 0, 0, 0, 0, 0, 1, 1],\n",
       "       [0, 0, 0, 0, 0, 0, 0, 0, 0, 0, 0, 0, 0, 0, 0, 0, 0, 0, 0, 0, 0, 0, 0],\n",
       "       [0, 0, 0, 0, 0, 0, 0, 0, 0, 0, 0, 0, 0, 0, 0, 0, 0, 0, 0, 0, 0, 0, 0]], dtype=uint8)"
      ]
     },
     "execution_count": 123,
     "metadata": {},
     "output_type": "execute_result"
    }
   ],
   "source": [
    "Edges"
   ]
  },
  {
   "cell_type": "markdown",
   "metadata": {},
   "source": [
    "Test Block"
   ]
  },
  {
   "cell_type": "code",
   "execution_count": 58,
   "metadata": {},
   "outputs": [
    {
     "name": "stdout",
     "output_type": "stream",
     "text": [
      "{'3': 0, '6': 1, '7': 2}\n",
      "labels:  [0 0 0 0 0 0 0 0 0 0 0 0 0 0 0 0 0 0 0 0 1 2 2]\n",
      "3\n",
      "{'3': 0, '6': 1, '7': 2}\n",
      "labels:  [0 0 0 0 0 0 0 2 0 0 0 0 0 0 1 2 2 1 2 2 1 2 2 1 2 2]\n",
      "ctr:  0\n"
     ]
    }
   ],
   "source": [
    "s1 = mutag[0]\n",
    "s2 = mutag[1]\n",
    "am1 = s1[0]\n",
    "nl1 = s1[1]\n",
    "al1 = s1[2] \n",
    "l1 = nl1; l1 = l1.tolist()[0]\n",
    "l2 = s2[1].tolist()[0]\n",
    "\n",
    "Map = dict()\n",
    "ctr = 0\n",
    "res = original_count(l1, Map, ctr)\n",
    "print(res['Map'])\n",
    "print(\"labels: \", res['labels'])\n",
    "print(res['ctr'])\n",
    "\n",
    "res = original_count(l2, Map, ctr)\n",
    "print(res['Map'])\n",
    "print(\"labels: \", res['labels'])\n",
    "print(\"ctr: \", res['ctr'])"
   ]
  },
  {
   "cell_type": "code",
   "execution_count": null,
   "metadata": {
    "collapsed": true
   },
   "outputs": [],
   "source": []
  }
 ],
 "metadata": {
  "kernelspec": {
   "display_name": "Python 3",
   "language": "python",
   "name": "python3"
  },
  "language_info": {
   "codemirror_mode": {
    "name": "ipython",
    "version": 3
   },
   "file_extension": ".py",
   "mimetype": "text/x-python",
   "name": "python",
   "nbconvert_exporter": "python",
   "pygments_lexer": "ipython3",
   "version": "3.6.3"
  }
 },
 "nbformat": 4,
 "nbformat_minor": 2
}
